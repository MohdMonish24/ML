{
 "cells": [
  {
   "cell_type": "markdown",
   "id": "33b20836",
   "metadata": {},
   "source": [
    "# What is Logistics Regression?\n",
    "\n",
    "● Logistics Regression is a statistics modeling technique that is used for Predict Categorical outcomes based on input variable.\n",
    "\n",
    "● Unlike linear regression, which is used for continuous outcomes, Logistics Regression deals with Binary outcomes(e.g yes/no, success/failure) or Multiclass outcomes(e.g low/medium/high). It estimate the Probability of an event Occuring by fitting a logistic function to the input data.\n",
    "\n",
    "                                             Another Defintion\n",
    "                                              \n",
    "● Logistics Regression is one of the most popular Machine learning algorithm, that belongs to the supervised learning technique. It is used for Predicting the Categorical dependent variable using a given set of independent variables.\n",
    "\n",
    "● Logistics Regression Predicts the output of a Categorical dependent variable. Therefore the outcome must be a Categorical or Discrete value. It can be either Yes or No, 0 or 1,True or False, etc, But instead of giving the exact value 0 and 1. it gives the proababilistic values which lie between 0 and 1.\n",
    "\n",
    "● Logistics Regression is much similar to the Linear Regression except that how they are used.  Linear Regression is used for solving Regression Problems, Where as Logistics Regression is Used for solving Classification Problems\n",
    "\n",
    "● In Logistics Regression, instead of fitting a regression line, we fit av \"S\" shaped logistic function, which predict two maximum values(0 or 1)."
   ]
  },
  {
   "cell_type": "markdown",
   "id": "626942ba",
   "metadata": {},
   "source": [
    "# Types of Logistics Regression\n",
    "\n",
    "On the basis of the categorise, Logistics Regression can be classified into three types:\n",
    "\n",
    "1. Binomial-: In Binomial Logistics Regression, there can be only two possible types of the dependent variables, such as 0 or 1, Pass or fail etc.\n",
    "\n",
    "2. Multinomial-: In Multinomial Logistics Regression, there can be 3 or more possible Unordered types of the dependent variables, such as \"Cat\", \"Dogs\" or \"Sheep\".\n",
    "\n",
    "3. Ordinal-: In Ordinal Logistics Regression, there can be 3 or more possible ordered types of the dependent variables, such as \"low\", \"Mediam\" or \"High\"."
   ]
  },
  {
   "cell_type": "markdown",
   "id": "838e0a9e",
   "metadata": {},
   "source": [
    "# Different Between Linear Regression and Logistics Regression?\n",
    "\n",
    "● Linear Regression is used the Continous dependent variable using a give set of independent variables, While/Where as Logistics Regression is Used the Categorical dependent variable using a give set of independent variables.\n",
    "\n",
    "● Linear Regression is used for solving Regression Problems, While/Where as Logistics Regression is Used for solving Classification Problems.\n",
    "\n",
    "● Linear Regression Output Continous Value (Price, age etc), While/Where as Logistics Regression Output Categorical Value (0/1, Yes/No etc).\n",
    "\n",
    "● Linear Regression Relationship between dependent variable and Independent variable must be linear, While/Where as Logistics Regression Relationship between dependent variable and Independent variable is not required.\n",
    "\n",
    "● Linear Regression Independent variable can be Collinear, While/Where as Logistics Regression Independent variable can-not be Collinear."
   ]
  },
  {
   "cell_type": "code",
   "execution_count": null,
   "id": "faa4e4c3",
   "metadata": {},
   "outputs": [],
   "source": []
  }
 ],
 "metadata": {
  "kernelspec": {
   "display_name": "Python 3 (ipykernel)",
   "language": "python",
   "name": "python3"
  },
  "language_info": {
   "codemirror_mode": {
    "name": "ipython",
    "version": 3
   },
   "file_extension": ".py",
   "mimetype": "text/x-python",
   "name": "python",
   "nbconvert_exporter": "python",
   "pygments_lexer": "ipython3",
   "version": "3.9.13"
  }
 },
 "nbformat": 4,
 "nbformat_minor": 5
}
